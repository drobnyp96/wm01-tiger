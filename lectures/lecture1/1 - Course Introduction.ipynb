{
 "cells": [
  {
   "cell_type": "markdown",
   "metadata": {},
   "source": [
    "# WM-01 Bioinformatics\n",
    "\n",
    "- Instructors: Andrew Straw, Wolfgang Maier\n",
    "- Tutor: Yonatan Cohen\n",
    "\n",
    "## Course content\n",
    "\n",
    "  - Basics of Python programming\n",
    "  - Basics of scientific data analysis\n",
    "  - Introduction to biological sequence analysis\n",
    "  - Usage of Galaxy cluster"
   ]
  },
  {
   "cell_type": "markdown",
   "metadata": {},
   "source": [
    "## Who am I (what do I know about programming, data science, and bioinformatics)?\n",
    "\n",
    "[strawlab.org](https://strawlab.org/)"
   ]
  },
  {
   "cell_type": "markdown",
   "metadata": {},
   "source": [
    "## Course format\n",
    "\n",
    "This course will be done in person but can be followed remotely. Lectures will be recorded and uploaded to Ilias shortly after class. Discussion and live particiaption will be encouraged. The exercises are be self-paced and the tutor will available during our exercise time to discuss.\n",
    "\n",
    "We will attempts to make the course available \"live\" online using video chat (link in Ilias), but priority will be given to those physically present.\n",
    "\n",
    "This format is designed to allow you to participate without strong disadvantages even in case of a suspected corona (or other) infection - just stay home!"
   ]
  },
  {
   "cell_type": "markdown",
   "metadata": {},
   "source": [
    "## Feedback\n",
    "\n",
    "We would like to make this course as productive as possible for you. Therefore, we encourage any feedback. This can come after the course is over as part of the official Uni Freiburg course feedback. Additionally, we would be happy to get suggestions and ideas as the course is ongoing."
   ]
  },
  {
   "cell_type": "markdown",
   "metadata": {},
   "source": [
    "## Communication with instructors and tutors during the course\n",
    "\n",
    "We have started a forum room on Ilias. For questions, use this, or ask during the lecture by typing a quesion in Zoom. This lets other students see them and learn from the answers. Almost certainly you will not be the only one with a particular question!\n",
    "\n",
    "If you email us, unless the content is very personal, we may re-post the question into the forum room so everyone has a chance to benefit from the communication."
   ]
  },
  {
   "cell_type": "markdown",
   "metadata": {},
   "source": [
    "## Team work\n",
    "\n",
    "We highly encourage teamwork during this course! You are welcome to discuss any aspect of the course with your colleagues. If you have any ideas how to better support teamwork, please let us know."
   ]
  },
  {
   "cell_type": "markdown",
   "metadata": {},
   "source": [
    "## Grading\n",
    "\n",
    "There is a requirement of active participation to pass the course. This will be checked by verifying that you did the exercises. We have a threshold of 80% of assignments submitted to receive a pass grade."
   ]
  },
  {
   "cell_type": "markdown",
   "metadata": {},
   "source": [
    "## [Ten simple rules for biologists learning to program](https://journals.plos.org/ploscompbiol/article?id=10.1371/journal.pcbi.1005871)"
   ]
  },
  {
   "cell_type": "markdown",
   "metadata": {},
   "source": [
    "## Anaconda and Python installation\n",
    "\n",
    "We have installed the Anaconda edition of Python installed on a server. You are welcome to use this for the entire duration of the class and we can ensure that it works for all the assignments.\n",
    "\n",
    "However, we would like to enable you to run Python yourself. To support this goal, we also recommend that you install Anaconda on your own computer and we will walk through how to do this."
   ]
  },
  {
   "cell_type": "markdown",
   "metadata": {},
   "source": [
    "## Anaconda environments\n",
    "\n",
    "For this course, we have created an Anaconda environment which specifies the exact version of all the packages we will use to ensure no trouble due to version mismatches. We will walk through how to install this environment in lecture."
   ]
  },
  {
   "cell_type": "markdown",
   "metadata": {},
   "source": [
    "## Submitting exercises\n",
    "\n",
    "For the first part of this course (with Straw), we will use the `nbgrader` system and the support built in to Jupyter notebook. While we have used aspects of this in the past, we are now relying on automatic integration of this system for the instructor to release the exercises, for the students to submit their completed exercises, and for `nbgrader` to automatically grade the exercises. This will be demonstrated in class today but in case you hit any issue, please contact the instructor or tutor."
   ]
  }
 ],
 "metadata": {
  "interpreter": {
   "hash": "ccf25074823ae812a85d1e93a88d7cc1917c9d66a77f4dbdd42f55ca58b1eefe"
  },
  "kernelspec": {
   "display_name": "Python 3 (ipykernel)",
   "language": "python",
   "name": "python3"
  },
  "language_info": {
   "codemirror_mode": {
    "name": "ipython",
    "version": 3
   },
   "file_extension": ".py",
   "mimetype": "text/x-python",
   "name": "python",
   "nbconvert_exporter": "python",
   "pygments_lexer": "ipython3",
   "version": "3.10.4"
  }
 },
 "nbformat": 4,
 "nbformat_minor": 4
}
